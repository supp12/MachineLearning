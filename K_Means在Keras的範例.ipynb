{
  "nbformat": 4,
  "nbformat_minor": 0,
  "metadata": {
    "colab": {
      "provenance": [],
      "authorship_tag": "ABX9TyMLi2KD/2etZXeK5rhbJhjM",
      "include_colab_link": true
    },
    "kernelspec": {
      "name": "python3",
      "display_name": "Python 3"
    },
    "language_info": {
      "name": "python"
    }
  },
  "cells": [
    {
      "cell_type": "markdown",
      "metadata": {
        "id": "view-in-github",
        "colab_type": "text"
      },
      "source": [
        "<a href=\"https://colab.research.google.com/github/supp12/MachineLearning/blob/main/K_Means%E5%9C%A8Keras%E7%9A%84%E7%AF%84%E4%BE%8B.ipynb\" target=\"_parent\"><img src=\"https://colab.research.google.com/assets/colab-badge.svg\" alt=\"Open In Colab\"/></a>"
      ]
    },
    {
      "cell_type": "code",
      "execution_count": null,
      "metadata": {
        "id": "ynhc9IurrWUL"
      },
      "outputs": [],
      "source": [
        "\tfrom sklearn.cluster import KMeans\n",
        "from sklearn.datasets import load_iris\n",
        "from sklearn.metrics import accuracy_score\n",
        "\n",
        "# 讀入鳶尾花資料\n",
        "iris = load_iris()\n",
        "iris_data = iris.data\n",
        "iris_label = iris.target\n",
        "\n",
        "# 建立分類器\n",
        "clf = KMeans(3)\n",
        "iris_clf = clf.fit(iris_data)\n",
        "\n",
        "cluster_labels = iris_clf.labels_\n",
        "print(\"分群結果：\")\n",
        "print(cluster_labels)\n",
        "\n",
        "# 印出品種看看\n",
        "print(\"真實品種：\")\n",
        "print(iris_label)\n",
        "\n",
        "print(accuracy_score(cluster_labels, iris_label))\n",
        "\n",
        "執行結果\n",
        "分群正確率89.3%\n",
        "\n",
        "\n"
      ]
    }
  ]
}